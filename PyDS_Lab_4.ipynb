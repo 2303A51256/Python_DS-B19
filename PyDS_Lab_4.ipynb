{
  "nbformat": 4,
  "nbformat_minor": 0,
  "metadata": {
    "colab": {
      "provenance": [],
      "authorship_tag": "ABX9TyNR5YHpIUbDmQNA0jKRSq2e",
      "include_colab_link": true
    },
    "kernelspec": {
      "name": "python3",
      "display_name": "Python 3"
    },
    "language_info": {
      "name": "python"
    }
  },
  "cells": [
    {
      "cell_type": "markdown",
      "metadata": {
        "id": "view-in-github",
        "colab_type": "text"
      },
      "source": [
        "<a href=\"https://colab.research.google.com/github/2303A51256/Python_DS-B19/blob/main/PyDS_Lab_4.ipynb\" target=\"_parent\"><img src=\"https://colab.research.google.com/assets/colab-badge.svg\" alt=\"Open In Colab\"/></a>"
      ]
    },
    {
      "cell_type": "code",
      "execution_count": 23,
      "metadata": {
        "colab": {
          "base_uri": "https://localhost:8080/"
        },
        "id": "DCu5FNXG7nYw",
        "outputId": "643e129a-4066-4d97-f62a-95cc511480c6"
      },
      "outputs": [
        {
          "output_type": "stream",
          "name": "stdout",
          "text": [
            "Pandas Series: \n",
            "0    10\n",
            "1    20\n",
            "2    30\n",
            "3    40\n",
            "4    50\n",
            "dtype: int64\n"
          ]
        }
      ],
      "source": [
        "import pandas as pd\n",
        "data = [10, 20, 30, 40, 50]\n",
        "series = pd.Series(data)\n",
        "\n",
        "print(\"Pandas Series: \")\n",
        "print(series)"
      ]
    },
    {
      "cell_type": "code",
      "source": [
        "data = [10, 20, 30, 40, 50]\n",
        "index_labels = ['a', 'b', 'c', 'd', 'e']\n",
        "\n",
        "series = pd.Series(data, index=index_labels)\n",
        "\n",
        "print(\"Pandas Series with Custom Index: \")\n",
        "print(series)"
      ],
      "metadata": {
        "colab": {
          "base_uri": "https://localhost:8080/"
        },
        "id": "Ky50umHF8Yc8",
        "outputId": "013b5c39-0dfa-4f2e-d899-e8415290b4ef"
      },
      "execution_count": 24,
      "outputs": [
        {
          "output_type": "stream",
          "name": "stdout",
          "text": [
            "Pandas Series with Custom Index: \n",
            "a    10\n",
            "b    20\n",
            "c    30\n",
            "d    40\n",
            "e    50\n",
            "dtype: int64\n"
          ]
        }
      ]
    },
    {
      "cell_type": "code",
      "source": [
        "data = {\n",
        "    'Name' : ['Alice', 'Bob', 'Charlie', 'David'],\n",
        "    'Age' : [25, 30, 35, 40],\n",
        "    'City' : ['Hyderabad', 'Mumbai', 'Delhi', 'Bangalore']\n",
        "}\n",
        "df = pd.DataFrame(data)\n",
        "print(\"DataFrame:\")\n",
        "print(df)\n"
      ],
      "metadata": {
        "colab": {
          "base_uri": "https://localhost:8080/"
        },
        "id": "ZPV25Y-y9Huc",
        "outputId": "1e1685d6-030c-43e5-81c4-a88f96c9156d"
      },
      "execution_count": 25,
      "outputs": [
        {
          "output_type": "stream",
          "name": "stdout",
          "text": [
            "DataFrame:\n",
            "      Name  Age       City\n",
            "0    Alice   25  Hyderabad\n",
            "1      Bob   30     Mumbai\n",
            "2  Charlie   35      Delhi\n",
            "3    David   40  Bangalore\n"
          ]
        }
      ]
    },
    {
      "cell_type": "code",
      "source": [
        "# a) Accessing Data\n",
        "#Access a single column\n",
        "print(df['Name'])\n",
        "\n",
        "#Access Multiple Columns\n",
        "print(df[['Name', 'Age']])\n",
        "\n",
        "#Access rows using index\n",
        "print(df.loc[1])\n",
        "print(df.iloc[2])"
      ],
      "metadata": {
        "colab": {
          "base_uri": "https://localhost:8080/"
        },
        "id": "nucYU-NK-1gu",
        "outputId": "467eeace-2d7d-49e7-d89f-4e6bc82fef0e"
      },
      "execution_count": 26,
      "outputs": [
        {
          "output_type": "stream",
          "name": "stdout",
          "text": [
            "0      Alice\n",
            "1        Bob\n",
            "2    Charlie\n",
            "3      David\n",
            "Name: Name, dtype: object\n",
            "      Name  Age\n",
            "0    Alice   25\n",
            "1      Bob   30\n",
            "2  Charlie   35\n",
            "3    David   40\n",
            "Name       Bob\n",
            "Age         30\n",
            "City    Mumbai\n",
            "Name: 1, dtype: object\n",
            "Name    Charlie\n",
            "Age          35\n",
            "City      Delhi\n",
            "Name: 2, dtype: object\n"
          ]
        }
      ]
    },
    {
      "cell_type": "code",
      "source": [
        "# b) Adding a new column\n",
        "df['Salary'] = [40000, 50000, 60000, 70000]\n",
        "print(df)"
      ],
      "metadata": {
        "colab": {
          "base_uri": "https://localhost:8080/"
        },
        "id": "QashUEZ1-7LA",
        "outputId": "9ec29da7-ee81-436f-c28b-a5e2d932fa55"
      },
      "execution_count": 27,
      "outputs": [
        {
          "output_type": "stream",
          "name": "stdout",
          "text": [
            "      Name  Age       City  Salary\n",
            "0    Alice   25  Hyderabad   40000\n",
            "1      Bob   30     Mumbai   50000\n",
            "2  Charlie   35      Delhi   60000\n",
            "3    David   40  Bangalore   70000\n"
          ]
        }
      ]
    },
    {
      "cell_type": "code",
      "source": [
        "# c) Removing a Column\n",
        "df = df.drop('City', axis = 1)\n",
        "print(df)"
      ],
      "metadata": {
        "colab": {
          "base_uri": "https://localhost:8080/"
        },
        "id": "sDkkdpJK_hvr",
        "outputId": "2ff47dda-b18a-484f-c06b-c851fd89777b"
      },
      "execution_count": 28,
      "outputs": [
        {
          "output_type": "stream",
          "name": "stdout",
          "text": [
            "      Name  Age  Salary\n",
            "0    Alice   25   40000\n",
            "1      Bob   30   50000\n",
            "2  Charlie   35   60000\n",
            "3    David   40   70000\n"
          ]
        }
      ]
    },
    {
      "cell_type": "code",
      "source": [
        "# d) Filtering Data\n",
        "#select rows where age>30\n",
        "print(df[df['Age'] > 30])"
      ],
      "metadata": {
        "colab": {
          "base_uri": "https://localhost:8080/"
        },
        "id": "9hx_Xa4eA1sH",
        "outputId": "572204f7-f37f-40b4-e969-546966b00a6c"
      },
      "execution_count": 29,
      "outputs": [
        {
          "output_type": "stream",
          "name": "stdout",
          "text": [
            "      Name  Age  Salary\n",
            "2  Charlie   35   60000\n",
            "3    David   40   70000\n"
          ]
        }
      ]
    },
    {
      "cell_type": "code",
      "source": [
        "# e) Basic Statistics\n",
        "print(df['Age'].mean())\n",
        "print(df['Age'].max())\n",
        "print(df['Age'].min())"
      ],
      "metadata": {
        "colab": {
          "base_uri": "https://localhost:8080/"
        },
        "id": "4FOpErE_A_V2",
        "outputId": "6bf8eaa1-486f-46c2-89da-50420a315dac"
      },
      "execution_count": 30,
      "outputs": [
        {
          "output_type": "stream",
          "name": "stdout",
          "text": [
            "32.5\n",
            "40\n",
            "25\n"
          ]
        }
      ]
    },
    {
      "cell_type": "code",
      "source": [
        "#Create a DataFrame with student details\n",
        "student_data = {\n",
        "    'StudentID': [101, 102, 103, 104],\n",
        "    'Name': ['Alice', 'Bob', 'Charlie', 'David'],\n",
        "    'Marks': [85, 92, 78, 90],\n",
        "    'Department': ['CSE', 'ECE', 'ME', 'CSE']\n",
        "}\n",
        "df = pd.DataFrame(student_data)\n",
        "\n",
        "#Display the DataFrame\n",
        "print(\"Original DataFrame:\")\n",
        "print(df)\n"
      ],
      "metadata": {
        "colab": {
          "base_uri": "https://localhost:8080/"
        },
        "id": "uU-i_bVPBUjC",
        "outputId": "68b079bd-ce5b-4cfa-9abc-b6fe6c77a186"
      },
      "execution_count": 32,
      "outputs": [
        {
          "output_type": "stream",
          "name": "stdout",
          "text": [
            "Original DataFrame:\n",
            "   StudentID     Name  Marks Department\n",
            "0        101    Alice     85        CSE\n",
            "1        102      Bob     92        ECE\n",
            "2        103  Charlie     78         ME\n",
            "3        104    David     90        CSE\n"
          ]
        }
      ]
    },
    {
      "cell_type": "code",
      "source": [
        "import pandas as pd\n",
        "\n",
        "# 1. Define the dictionary with only the existing data.\n",
        "student_data = {\n",
        "    'sName': ['Alice', 'Bob', 'Charlie', 'David', 'Eva'],\n",
        "    'sRollNo': [101, 102, 103, 104, 105],\n",
        "    'M1' : [70, 85, 78, 90, 35],\n",
        "    'M2' : [75, 80, 88, 92, 40],\n",
        "    'M3' : [99, 35, 85, 80, 80],\n",
        "}\n",
        "\n",
        "# 2. Create the DataFrame. This will now work without error.\n",
        "df = pd.DataFrame(student_data)\n",
        "\n",
        "# 3. Now, create the new columns based on the data in the DataFrame.\n",
        "df['Total'] = df[['M1', 'M2', 'M3']].sum(axis=1)\n",
        "df['Result'] = df[['M1', 'M2', 'M3']].apply(lambda x: 'Pass' if all(m >= 40 for m in x) else 'Fail', axis=1)\n",
        "df['Average'] = df['Total'] / 3\n",
        "\n",
        "# Display the final DataFrame\n",
        "print(\"Final DataFrame:\")\n",
        "print(df)"
      ],
      "metadata": {
        "colab": {
          "base_uri": "https://localhost:8080/"
        },
        "id": "JRo1kgvwDpZR",
        "outputId": "88cc8b71-3190-4c55-bd29-63966e4ca00f"
      },
      "execution_count": 36,
      "outputs": [
        {
          "output_type": "stream",
          "name": "stdout",
          "text": [
            "Final DataFrame:\n",
            "     sName  sRollNo  M1  M2  M3  Total Result    Average\n",
            "0    Alice      101  70  75  99    244   Pass  81.333333\n",
            "1      Bob      102  85  80  35    200   Fail  66.666667\n",
            "2  Charlie      103  78  88  85    251   Pass  83.666667\n",
            "3    David      104  90  92  80    262   Pass  87.333333\n",
            "4      Eva      105  35  40  80    155   Fail  51.666667\n"
          ]
        }
      ]
    },
    {
      "cell_type": "code",
      "source": [],
      "metadata": {
        "id": "czPEtn8NI3e5"
      },
      "execution_count": null,
      "outputs": []
    }
  ]
}